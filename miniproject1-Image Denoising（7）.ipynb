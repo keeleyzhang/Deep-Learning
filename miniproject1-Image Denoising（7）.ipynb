{
 "cells": [
  {
   "cell_type": "markdown",
   "metadata": {},
   "source": [
    "# Function Definition"
   ]
  },
  {
   "cell_type": "code",
   "execution_count": 90,
   "metadata": {},
   "outputs": [],
   "source": [
    "%matplotlib inline\n",
    "\n",
    "import matplotlib.pyplot as plt\n",
    "\n",
    "import numpy as np\n",
    "from keras import utils as np_utils\n",
    "from keras.layers import Input\n",
    "\n",
    "from keras import optimizers\n",
    "from keras.layers import Conv2D, MaxPooling2D\n",
    "from keras.layers import Flatten\n",
    "from keras.layers import UpSampling2D\n",
    "from keras.models import Model\n",
    "from keras.layers import Dropout\n",
    "from keras.layers import Dropout, Activation, Flatten"
   ]
  },
  {
   "cell_type": "code",
   "execution_count": 48,
   "metadata": {},
   "outputs": [],
   "source": [
    "# On some implementations of matplotlib, you may need to change this value\n",
    "IMAGE_SIZE = 72"
   ]
  },
  {
   "cell_type": "code",
   "execution_count": 49,
   "metadata": {},
   "outputs": [],
   "source": [
    "def generate_a_drawing(figsize, U, V, noise=0.0):\n",
    "    fig = plt.figure(figsize=(figsize,figsize))\n",
    "    ax = plt.subplot(111)\n",
    "    plt.axis('Off')\n",
    "    ax.set_xlim(0,figsize)\n",
    "    ax.set_ylim(0,figsize)\n",
    "    ax.fill(U, V, \"k\")\n",
    "    fig.canvas.draw()\n",
    "    imdata = np.frombuffer(fig.canvas.tostring_rgb(), dtype=np.uint8)[::3].astype(np.float32)\n",
    "    imdata = imdata + noise * np.random.random(imdata.size)\n",
    "    plt.close(fig)\n",
    "    return imdata"
   ]
  },
  {
   "cell_type": "code",
   "execution_count": 50,
   "metadata": {},
   "outputs": [],
   "source": [
    "def generate_a_rectangle(noise=0.0, free_location=False):\n",
    "    figsize = 1.0    \n",
    "    U = np.zeros(4)\n",
    "    V = np.zeros(4)\n",
    "    if free_location:\n",
    "        corners = np.random.random(4)\n",
    "        top = max(corners[0], corners[1])\n",
    "        bottom = min(corners[0], corners[1])\n",
    "        left = min(corners[2], corners[3])\n",
    "        right = max(corners[2], corners[3])\n",
    "    else:\n",
    "        side = (0.3 + 0.7 * np.random.random()) * figsize\n",
    "        top = figsize/2 + side/2\n",
    "        bottom = figsize/2 - side/2\n",
    "        left = bottom\n",
    "        right = top\n",
    "    U[0] = U[1] = top\n",
    "    U[2] = U[3] = bottom\n",
    "    V[0] = V[3] = left\n",
    "    V[1] = V[2] = right\n",
    "    return generate_a_drawing(figsize, U, V, noise)"
   ]
  },
  {
   "cell_type": "code",
   "execution_count": 51,
   "metadata": {},
   "outputs": [],
   "source": [
    "def generate_a_disk(noise=0.0, free_location=False):\n",
    "    figsize = 1.0\n",
    "    if free_location:\n",
    "        center = np.random.random(2)\n",
    "    else:\n",
    "        center = (figsize/2, figsize/2)\n",
    "    radius = (0.3 + 0.7 * np.random.random()) * figsize/2\n",
    "    N = 50\n",
    "    U = np.zeros(N)\n",
    "    V = np.zeros(N)\n",
    "    i = 0\n",
    "    for t in np.linspace(0, 2*np.pi, N):\n",
    "        U[i] = center[0] + np.cos(t) * radius\n",
    "        V[i] = center[1] + np.sin(t) * radius\n",
    "        i = i + 1\n",
    "    return generate_a_drawing(figsize, U, V, noise)"
   ]
  },
  {
   "cell_type": "code",
   "execution_count": 52,
   "metadata": {},
   "outputs": [],
   "source": [
    "def generate_a_triangle(noise=0.0, free_location=False):\n",
    "    figsize = 1.0\n",
    "    if free_location:\n",
    "        U = np.random.random(3)\n",
    "        V = np.random.random(3)\n",
    "    else:\n",
    "        size = (0.3 + 0.7 * np.random.random())*figsize/2\n",
    "        middle = figsize/2\n",
    "        U = (middle, middle+size, middle-size)\n",
    "        V = (middle+size, middle-size, middle-size)\n",
    "    imdata = generate_a_drawing(figsize, U, V, noise)\n",
    "    return [imdata, [U[0], V[0], U[1], V[1], U[2], V[2]]]"
   ]
  },
  {
   "cell_type": "code",
   "execution_count": 53,
   "metadata": {},
   "outputs": [
    {
     "data": {
      "text/plain": [
       "<matplotlib.image.AxesImage at 0x122da0ba160>"
      ]
     },
     "execution_count": 53,
     "metadata": {},
     "output_type": "execute_result"
    },
    {
     "data": {
      "image/png": "[encoded data removed]",
      "text/plain": [
       "<Figure size 432x288 with 1 Axes>"
      ]
     },
     "metadata": {
      "needs_background": "light"
     },
     "output_type": "display_data"
    }
   ],
   "source": [
    "im = generate_a_rectangle(10, True)\n",
    "plt.imshow(im.reshape(IMAGE_SIZE,IMAGE_SIZE), cmap='gray')"
   ]
  },
  {
   "cell_type": "code",
   "execution_count": 54,
   "metadata": {},
   "outputs": [
    {
     "data": {
      "text/plain": [
       "<matplotlib.image.AxesImage at 0x122d9ef9eb8>"
      ]
     },
     "execution_count": 54,
     "metadata": {},
     "output_type": "execute_result"
    },
    {
     "data": {
      "image/png": "[encoded data removed]",
      "text/plain": [
       "<Figure size 432x288 with 1 Axes>"
      ]
     },
     "metadata": {
      "needs_background": "light"
     },
     "output_type": "display_data"
    }
   ],
   "source": [
    "im = generate_a_disk(10)\n",
    "plt.imshow(im.reshape(IMAGE_SIZE,IMAGE_SIZE), cmap='gray')"
   ]
  },
  {
   "cell_type": "code",
   "execution_count": 55,
   "metadata": {},
   "outputs": [
    {
     "data": {
      "text/plain": [
       "<matplotlib.image.AxesImage at 0x122d9f54390>"
      ]
     },
     "execution_count": 55,
     "metadata": {},
     "output_type": "execute_result"
    },
    {
     "data": {
      "image/png": "[encoded data removed]",
      "text/plain": [
       "<Figure size 432x288 with 1 Axes>"
      ]
     },
     "metadata": {
      "needs_background": "light"
     },
     "output_type": "display_data"
    }
   ],
   "source": [
    "[im, v] = generate_a_triangle(20, False)\n",
    "plt.imshow(im.reshape(IMAGE_SIZE,IMAGE_SIZE), cmap='gray')"
   ]
  },
  {
   "cell_type": "code",
   "execution_count": 56,
   "metadata": {},
   "outputs": [],
   "source": [
    "def generate_dataset_classification(nb_samples, noise=0.0, free_location=False):\n",
    "    # Getting im_size:\n",
    "    im_size = generate_a_rectangle().shape[0]\n",
    "    X = np.zeros([nb_samples,im_size])\n",
    "    Y = np.zeros(nb_samples)\n",
    "    print('Creating data:')\n",
    "    for i in range(nb_samples):\n",
    "        if i % 10 == 0:\n",
    "            print(i)\n",
    "        category = np.random.randint(3)\n",
    "        if category == 0:\n",
    "            X[i] = generate_a_rectangle(noise, free_location)\n",
    "        elif category == 1: \n",
    "            X[i] = generate_a_disk(noise, free_location)\n",
    "        else:\n",
    "            [X[i], V] = generate_a_triangle(noise, free_location)\n",
    "        Y[i] = category\n",
    "    X = (X + noise) / (255 + 2 * noise)\n",
    "    return [X, Y]\n"
   ]
  },
  {
   "cell_type": "code",
   "execution_count": 57,
   "metadata": {},
   "outputs": [],
   "source": [
    "def generate_test_set_classification():\n",
    "    np.random.seed(42)\n",
    "    [X_test, Y_test] = generate_dataset_classification(300, 20, True)\n",
    "    Y_test = np_utils.to_categorical(Y_test, 3) \n",
    "    return [X_test, Y_test]"
   ]
  },
  {
   "cell_type": "code",
   "execution_count": 58,
   "metadata": {},
   "outputs": [],
   "source": [
    "def generate_dataset_regression(nb_samples, noise=0.0):\n",
    "    # Getting im_size:\n",
    "    im_size = generate_a_triangle()[0].shape[0]\n",
    "    X = np.zeros([nb_samples,im_size])\n",
    "    Y = np.zeros([nb_samples, 6])\n",
    "    print('Creating data:')\n",
    "    for i in range(nb_samples):\n",
    "        if i % 10 == 0:\n",
    "            print(i)\n",
    "        [X[i], Y[i]] = generate_a_triangle(noise, True)\n",
    "    X = (X + noise) / (255 + 2 * noise)\n",
    "    return [X, Y]"
   ]
  },
  {
   "cell_type": "code",
   "execution_count": 59,
   "metadata": {},
   "outputs": [],
   "source": [
    "import matplotlib.patches as patches\n",
    "\n",
    "def visualize_prediction(x, y):\n",
    "    fig, ax = plt.subplots(figsize=(5, 5))\n",
    "    I = x.reshape((IMAGE_SIZE,IMAGE_SIZE))\n",
    "    ax.imshow(I, extent=[-0.15,1.15,-0.15,1.15],cmap='gray')\n",
    "    ax.set_xlim([0,1])\n",
    "    ax.set_ylim([0,1])\n",
    "\n",
    "    xy = y.reshape(3,2)\n",
    "    tri = patches.Polygon(xy, closed=True, fill = False, edgecolor = 'r', linewidth = 5, alpha = 0.5)\n",
    "    ax.add_patch(tri)\n",
    "\n",
    "    plt.show()"
   ]
  },
  {
   "cell_type": "code",
   "execution_count": 60,
   "metadata": {},
   "outputs": [],
   "source": [
    "def generate_test_set_regression():\n",
    "    np.random.seed(42)\n",
    "    [X_test, Y_test] = generate_dataset_regression(300, 20)\n",
    "    return [X_test, Y_test]"
   ]
  },
  {
   "cell_type": "markdown",
   "metadata": {},
   "source": [
    "# Image Denoising"
   ]
  },
  {
   "cell_type": "markdown",
   "metadata": {},
   "source": [
    "## Redefine triangle"
   ]
  },
  {
   "cell_type": "code",
   "execution_count": 61,
   "metadata": {},
   "outputs": [],
   "source": [
    "#Redefine generate_a_triangle, return one image with noise and one without noise\n",
    "def generate_a_triangle_noise(noise, free_location=False):\n",
    "    figsize = 1.0\n",
    "    if free_location:\n",
    "        U = np.random.random(3)\n",
    "        V = np.random.random(3)\n",
    "    else:\n",
    "        size = (0.3 + 0.7 * np.random.random())*figsize/2\n",
    "        middle = figsize/2\n",
    "        U = (middle, middle+size, middle-size)\n",
    "        V = (middle+size, middle-size, middle-size)\n",
    "    imdata_1 = generate_a_drawing(figsize, U, V, noise) #here's the image with noise\n",
    "    imdata_2 = generate_a_drawing(figsize, U, V, 0) #here's the image without noise\n",
    "    return [imdata_1,imdata_2, [U[0], V[0], U[1], V[1], U[2], V[2]]]"
   ]
  },
  {
   "cell_type": "code",
   "execution_count": 62,
   "metadata": {},
   "outputs": [
    {
     "data": {
      "text/plain": [
       "<matplotlib.image.AxesImage at 0x122da536a20>"
      ]
     },
     "execution_count": 62,
     "metadata": {},
     "output_type": "execute_result"
    },
    {
     "data": {
      "image/png": "[encoded data removed]",
      "text/plain": [
       "<Figure size 432x288 with 1 Axes>"
      ]
     },
     "metadata": {
      "needs_background": "light"
     },
     "output_type": "display_data"
    }
   ],
   "source": [
    "#Plot image with noise\n",
    "im = generate_a_triangle_noise(50, False)\n",
    "plt.imshow(im[0].reshape(IMAGE_SIZE,IMAGE_SIZE), cmap='gray')"
   ]
  },
  {
   "cell_type": "code",
   "execution_count": 63,
   "metadata": {},
   "outputs": [
    {
     "data": {
      "text/plain": [
       "<matplotlib.image.AxesImage at 0x122da593828>"
      ]
     },
     "execution_count": 63,
     "metadata": {},
     "output_type": "execute_result"
    },
    {
     "data": {
      "image/png": "[encoded data removed]",
      "text/plain": [
       "<Figure size 432x288 with 1 Axes>"
      ]
     },
     "metadata": {
      "needs_background": "light"
     },
     "output_type": "display_data"
    }
   ],
   "source": [
    "#Plot image without noise\n",
    "plt.imshow(im[1].reshape(IMAGE_SIZE,IMAGE_SIZE), cmap='gray')"
   ]
  },
  {
   "cell_type": "markdown",
   "metadata": {},
   "source": [
    "## Redefine disk"
   ]
  },
  {
   "cell_type": "code",
   "execution_count": 64,
   "metadata": {},
   "outputs": [],
   "source": [
    "def generate_a_disk_noise(noise=0.0, free_location=False):\n",
    "    figsize = 1.0\n",
    "    if free_location:\n",
    "        center = np.random.random(2)\n",
    "    else:\n",
    "        center = (figsize/2, figsize/2)\n",
    "    radius = (0.3 + 0.7 * np.random.random()) * figsize/2\n",
    "    N = 50\n",
    "    U = np.zeros(N)\n",
    "    V = np.zeros(N)\n",
    "    i = 0\n",
    "    for t in np.linspace(0, 2*np.pi, N):\n",
    "        U[i] = center[0] + np.cos(t) * radius\n",
    "        V[i] = center[1] + np.sin(t) * radius\n",
    "        i = i + 1\n",
    "    return generate_a_drawing(figsize, U, V, noise), generate_a_drawing(figsize,U,V,0)"
   ]
  },
  {
   "cell_type": "markdown",
   "metadata": {},
   "source": [
    "## Redefine rectangle"
   ]
  },
  {
   "cell_type": "code",
   "execution_count": 72,
   "metadata": {},
   "outputs": [],
   "source": [
    "def generate_a_rectangle_noise(noise=0.0, free_location=False):\n",
    "    figsize = 1.0    \n",
    "    U = np.zeros(4)\n",
    "    V = np.zeros(4)\n",
    "    if free_location:\n",
    "        corners = np.random.random(4)\n",
    "        top = max(corners[0], corners[1])\n",
    "        bottom = min(corners[0], corners[1])\n",
    "        left = min(corners[2], corners[3])\n",
    "        right = max(corners[2], corners[3])\n",
    "    else:\n",
    "        side = (0.3 + 0.7 * np.random.random()) * figsize\n",
    "        top = figsize/2 + side/2\n",
    "        bottom = figsize/2 - side/2\n",
    "        left = bottom\n",
    "        right = top\n",
    "    U[0] = U[1] = top\n",
    "    U[2] = U[3] = bottom\n",
    "    V[0] = V[3] = left\n",
    "    V[1] = V[2] = right\n",
    "    return generate_a_drawing(figsize, U, V, noise), generate_a_drawing(figsize, U, V, 0)"
   ]
  },
  {
   "cell_type": "markdown",
   "metadata": {},
   "source": [
    "## Redefine data generate"
   ]
  },
  {
   "cell_type": "code",
   "execution_count": 73,
   "metadata": {},
   "outputs": [],
   "source": [
    "def generate_dataset_classification_noise(nb_samples, noise=0.0, free_location=False):\n",
    "    # Getting im_size:\n",
    "    im_size = generate_a_rectangle_noise(0)[0].shape[0]\n",
    "    X = np.zeros([nb_samples,im_size])\n",
    "    Y = np.zeros([nb_samples,im_size])\n",
    "    print('Creating data:')\n",
    "    for i in range(nb_samples):\n",
    "        if i % 10 == 0:\n",
    "            print(i)\n",
    "        category = np.random.randint(3)\n",
    "        if category == 0:\n",
    "            X[i] = generate_a_rectangle_noise(noise, free_location)[0]\n",
    "            Y[i] = generate_a_rectangle_noise(noise, free_location)[1]\n",
    "        elif category == 1: \n",
    "            X[i] = generate_a_disk_noise(noise, free_location)[0]\n",
    "            Y[i] = generate_a_disk_noise(noise, free_location)[1]\n",
    "        else:\n",
    "            [X[i], Y[i], V] = generate_a_triangle_noise(noise, free_location)\n",
    "           \n",
    "        \n",
    "    X = (X + noise) / (255 + 2 * noise)\n",
    "    Y = (Y + 0)/(255+2*0)\n",
    "    return [X, Y]"
   ]
  },
  {
   "cell_type": "markdown",
   "metadata": {},
   "source": [
    "## Generate data"
   ]
  },
  {
   "cell_type": "code",
   "execution_count": 83,
   "metadata": {
    "collapsed": true
   },
   "outputs": [
    {
     "name": "stdout",
     "output_type": "stream",
     "text": [
      "Creating data:\n",
      "0\n",
      "10\n",
      "20\n",
      "30\n",
      "40\n",
      "50\n",
      "60\n",
      "70\n",
      "80\n",
      "90\n",
      "100\n",
      "110\n",
      "120\n",
      "130\n",
      "140\n",
      "150\n",
      "160\n",
      "170\n",
      "180\n",
      "190\n",
      "200\n",
      "210\n",
      "220\n",
      "230\n",
      "240\n",
      "250\n",
      "260\n",
      "270\n",
      "280\n",
      "290\n",
      "Creating data:\n",
      "0\n",
      "10\n",
      "20\n",
      "30\n",
      "40\n",
      "50\n",
      "60\n",
      "70\n",
      "80\n",
      "90\n",
      "100\n",
      "110\n",
      "120\n",
      "130\n",
      "140\n"
     ]
    }
   ],
   "source": [
    "[X_train, Y_train] = generate_dataset_classification_noise(300, 20,False)\n",
    "[X_test, Y_test] = generate_dataset_classification_noise(150,20,False)"
   ]
  },
  {
   "cell_type": "code",
   "execution_count": 87,
   "metadata": {},
   "outputs": [],
   "source": [
    "#Reformatting the data\n",
    "X_train = X_train.reshape(len(X_train),72,72,1)\n",
    "Y_train = Y_train.reshape(len(Y_train),72,72,1)\n",
    "X_test = X_test.reshape(len(X_test),72,72,1)\n",
    "Y_test = Y_test.reshape(len(Y_test),72,72,1)"
   ]
  },
  {
   "cell_type": "markdown",
   "metadata": {},
   "source": [
    "## Train and test model"
   ]
  },
  {
   "cell_type": "code",
   "execution_count": 121,
   "metadata": {},
   "outputs": [],
   "source": [
    "#hourglass network\n",
    "input_img = Input(shape=(72,72,1))\n",
    "conv1 = Conv2D(32,(3,3), activation = 'relu',padding='same')(input_img)\n",
    "pool1 = MaxPooling2D(pool_size=(2,2), padding='same')(conv1)\n",
    "\n",
    "up1 = UpSampling2D(size=(2,2))(pool1)\n",
    "up_conv1 = Conv2D(32,(3,3),activation = 'relu',padding='same')(up1)\n",
    "conv_up = Conv2D(1,(3,3),activation='sigmoid',padding='same')(up_conv1)"
   ]
  },
  {
   "cell_type": "code",
   "execution_count": 122,
   "metadata": {
    "collapsed": true
   },
   "outputs": [
    {
     "name": "stdout",
     "output_type": "stream",
     "text": [
      "_________________________________________________________________\n",
      "Layer (type)                 Output Shape              Param #   \n",
      "=================================================================\n",
      "input_5 (InputLayer)         (None, 72, 72, 1)         0         \n",
      "_________________________________________________________________\n",
      "conv2d_37 (Conv2D)           (None, 72, 72, 32)        320       \n",
      "_________________________________________________________________\n",
      "max_pooling2d_14 (MaxPooling (None, 36, 36, 32)        0         \n",
      "_________________________________________________________________\n",
      "up_sampling2d_12 (UpSampling (None, 72, 72, 32)        0         \n",
      "_________________________________________________________________\n",
      "conv2d_38 (Conv2D)           (None, 72, 72, 32)        9248      \n",
      "_________________________________________________________________\n",
      "conv2d_39 (Conv2D)           (None, 72, 72, 1)         289       \n",
      "=================================================================\n",
      "Total params: 9,857\n",
      "Trainable params: 9,857\n",
      "Non-trainable params: 0\n",
      "_________________________________________________________________\n"
     ]
    }
   ],
   "source": [
    "model = Model(input_img, conv_up)\n",
    "model.compile(optimizer='adadelta', loss='binary_crossentropy', metrics=['accuracy'])\n",
    "model.summary()"
   ]
  },
  {
   "cell_type": "code",
   "execution_count": 123,
   "metadata": {},
   "outputs": [
    {
     "name": "stdout",
     "output_type": "stream",
     "text": [
      "Train on 210 samples, validate on 90 samples\n",
      "Epoch 1/20\n",
      "210/210 [==============================] - 12s 57ms/step - loss: 0.6956 - acc: 0.4138 - val_loss: 0.6645 - val_acc: 0.7900\n",
      "Epoch 2/20\n",
      "210/210 [==============================] - 10s 47ms/step - loss: 0.6566 - acc: 0.7957 - val_loss: 0.6247 - val_acc: 0.7874\n",
      "Epoch 3/20\n",
      "210/210 [==============================] - 10s 49ms/step - loss: 0.6128 - acc: 0.7953 - val_loss: 0.5676 - val_acc: 0.7875\n",
      "Epoch 4/20\n",
      "210/210 [==============================] - 10s 48ms/step - loss: 0.5504 - acc: 0.7956 - val_loss: 0.4907 - val_acc: 0.7875\n",
      "Epoch 5/20\n",
      "210/210 [==============================] - 10s 48ms/step - loss: 0.4694 - acc: 0.7956 - val_loss: 0.4211 - val_acc: 0.7875\n",
      "Epoch 6/20\n",
      "210/210 [==============================] - 10s 48ms/step - loss: 0.4041 - acc: 0.7956 - val_loss: 0.3957 - val_acc: 0.7875\n",
      "Epoch 7/20\n",
      "210/210 [==============================] - 10s 48ms/step - loss: 0.3823 - acc: 0.7956 - val_loss: 0.3911 - val_acc: 0.7875\n",
      "Epoch 8/20\n",
      "210/210 [==============================] - 10s 46ms/step - loss: 0.3773 - acc: 0.7956 - val_loss: 0.3882 - val_acc: 0.7875\n",
      "Epoch 9/20\n",
      "210/210 [==============================] - 10s 47ms/step - loss: 0.3734 - acc: 0.7956 - val_loss: 0.3837 - val_acc: 0.7875\n",
      "Epoch 10/20\n",
      "210/210 [==============================] - 9s 45ms/step - loss: 0.3693 - acc: 0.7956 - val_loss: 0.3793 - val_acc: 0.7875\n",
      "Epoch 11/20\n",
      "210/210 [==============================] - 10s 47ms/step - loss: 0.3649 - acc: 0.7956 - val_loss: 0.3750 - val_acc: 0.7875\n",
      "Epoch 12/20\n",
      "210/210 [==============================] - 10s 48ms/step - loss: 0.3610 - acc: 0.7956 - val_loss: 0.3720 - val_acc: 0.7875\n",
      "Epoch 13/20\n",
      "210/210 [==============================] - 10s 47ms/step - loss: 0.3565 - acc: 0.7956 - val_loss: 0.3667 - val_acc: 0.7884\n",
      "Epoch 14/20\n",
      "210/210 [==============================] - 10s 49ms/step - loss: 0.3524 - acc: 0.8237 - val_loss: 0.3626 - val_acc: 0.8683\n",
      "Epoch 15/20\n",
      "210/210 [==============================] - 10s 48ms/step - loss: 0.3479 - acc: 0.8759 - val_loss: 0.3588 - val_acc: 0.8733\n",
      "Epoch 16/20\n",
      "210/210 [==============================] - 10s 48ms/step - loss: 0.3447 - acc: 0.8796 - val_loss: 0.3556 - val_acc: 0.8751\n",
      "Epoch 17/20\n",
      "210/210 [==============================] - 10s 47ms/step - loss: 0.3414 - acc: 0.8810 - val_loss: 0.3521 - val_acc: 0.8769\n",
      "Epoch 18/20\n",
      "210/210 [==============================] - 10s 47ms/step - loss: 0.3403 - acc: 0.8819 - val_loss: 0.3486 - val_acc: 0.8779\n",
      "Epoch 19/20\n",
      "210/210 [==============================] - 10s 49ms/step - loss: 0.3355 - acc: 0.8836 - val_loss: 0.3445 - val_acc: 0.8786\n",
      "Epoch 20/20\n",
      "210/210 [==============================] - 10s 48ms/step - loss: 0.3307 - acc: 0.8846 - val_loss: 0.3423 - val_acc: 0.8792\n"
     ]
    },
    {
     "data": {
      "text/plain": [
       "<keras.callbacks.History at 0x12285ac5f60>"
      ]
     },
     "execution_count": 123,
     "metadata": {},
     "output_type": "execute_result"
    }
   ],
   "source": [
    "model.fit(X_train,Y_train, epochs=20, batch_size=128, shuffle=True, validation_split=0.3)"
   ]
  },
  {
   "cell_type": "code",
   "execution_count": 124,
   "metadata": {},
   "outputs": [
    {
     "name": "stdout",
     "output_type": "stream",
     "text": [
      "150/150 [==============================] - 2s 13ms/step\n"
     ]
    },
    {
     "data": {
      "text/plain": [
       "[0.3384993282953898, 0.8789519143104553]"
      ]
     },
     "execution_count": 124,
     "metadata": {},
     "output_type": "execute_result"
    }
   ],
   "source": [
    "#testing\n",
    "model.evaluate(X_test,Y_test)"
   ]
  }
 ],
 "metadata": {
  "kernelspec": {
   "display_name": "Python 3",
   "language": "python",
   "name": "python3"
  },
  "language_info": {
   "codemirror_mode": {
    "name": "ipython",
    "version": 3
   },
   "file_extension": ".py",
   "mimetype": "text/x-python",
   "name": "python",
   "nbconvert_exporter": "python",
   "pygments_lexer": "ipython3",
   "version": "3.6.7"
  }
 },
 "nbformat": 4,
 "nbformat_minor": 2
}
